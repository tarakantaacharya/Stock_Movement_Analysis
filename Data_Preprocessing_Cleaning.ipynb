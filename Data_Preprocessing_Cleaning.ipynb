{
  "nbformat": 4,
  "nbformat_minor": 0,
  "metadata": {
    "colab": {
      "provenance": [],
      "authorship_tag": "ABX9TyOC5JKng/DwaWkvoNLKzjIi",
      "include_colab_link": true
    },
    "kernelspec": {
      "name": "python3",
      "display_name": "Python 3"
    },
    "language_info": {
      "name": "python"
    }
  },
  "cells": [
    {
      "cell_type": "markdown",
      "metadata": {
        "id": "view-in-github",
        "colab_type": "text"
      },
      "source": [
        "<a href=\"https://colab.research.google.com/github/tarakantaacharya/Stock_Movement_Analysis/blob/main/Data_Preprocessing_Cleaning.ipynb\" target=\"_parent\"><img src=\"https://colab.research.google.com/assets/colab-badge.svg\" alt=\"Open In Colab\"/></a>"
      ]
    },
    {
      "cell_type": "markdown",
      "source": [
        "#Data preprocessing and Cleaning"
      ],
      "metadata": {
        "id": "Co9y7TRZAARw"
      }
    },
    {
      "cell_type": "markdown",
      "source": [
        "####Instructions:\n",
        "Just simply run the code without any extra details here\n",
        "\n",
        "Note : Make sure you install the requirements.txt"
      ],
      "metadata": {
        "id": "WFa0xKTzMv92"
      }
    },
    {
      "cell_type": "markdown",
      "source": [
        "------------------------------------------------------------------------------------------------------------------------------------------------------------------------------------------------------------------------------------------------------------------------------------------------"
      ],
      "metadata": {
        "id": "VjXxel1PNgvt"
      }
    },
    {
      "cell_type": "code",
      "source": [
        "#nltk download\n",
        "!pip install nltk"
      ],
      "metadata": {
        "colab": {
          "base_uri": "https://localhost:8080/"
        },
        "id": "QeG7BeHENAZq",
        "outputId": "c4f2121d-6b1e-4021-f360-c2c8278bcdce"
      },
      "execution_count": 2,
      "outputs": [
        {
          "output_type": "stream",
          "name": "stdout",
          "text": [
            "Requirement already satisfied: nltk in /usr/local/lib/python3.10/dist-packages (3.9.1)\n",
            "Requirement already satisfied: click in /usr/local/lib/python3.10/dist-packages (from nltk) (8.1.7)\n",
            "Requirement already satisfied: joblib in /usr/local/lib/python3.10/dist-packages (from nltk) (1.4.2)\n",
            "Requirement already satisfied: regex>=2021.8.3 in /usr/local/lib/python3.10/dist-packages (from nltk) (2024.9.11)\n",
            "Requirement already satisfied: tqdm in /usr/local/lib/python3.10/dist-packages (from nltk) (4.66.6)\n"
          ]
        }
      ]
    },
    {
      "cell_type": "code",
      "source": [
        "# Importing pandas to work with data in DataFrame format (useful for data manipulation and analysis)\n",
        "import pandas as pd\n",
        "# Importing the 're' module for regular expressions (used for text cleaning and pattern matching)\n",
        "import re\n",
        "# Importing the 'string' module to access common string operations (e.g., removing punctuation)\n",
        "import string\n",
        "# Importing stopwords from NLTK (Natural Language Toolkit) to remove common words (like 'the', 'and') that add little meaning\n",
        "from nltk.corpus import stopwords\n",
        "# Importing word_tokenize from NLTK to split text into individual words (tokens)\n",
        "from nltk.tokenize import word_tokenize\n",
        "# Importing WordNetLemmatizer from NLTK to reduce words to their base or root form (lemmatization)\n",
        "from nltk.stem import WordNetLemmatizer\n",
        "# Importing TextBlob for sentiment analysis and text processing (it provides tools to work with text, like sentiment polarity)\n",
        "from textblob import TextBlob\n",
        "# Importing nltk to download and work with NLTK resources (e.g., downloading stopwords and tokenizers)\n",
        "import nltk"
      ],
      "metadata": {
        "id": "7zsoh86_htfM"
      },
      "execution_count": null,
      "outputs": []
    },
    {
      "cell_type": "markdown",
      "source": [
        "# Purpose of this Script:\n",
        "This code performs data preprocessing, cleaning, and sentiment analysis on Reddit posts related to stock data. It transforms raw text data into a structured format, making it easier to analyze or use in predictive models."
      ],
      "metadata": {
        "id": "RZtz4HWgIKKM"
      }
    },
    {
      "cell_type": "code",
      "source": [
        "#Import NLTK Resources:\n",
        "#These downloads ensure that the required NLTK data files are available for tokenization, stopword removal, and lemmatization.\n",
        "nltk.download('punkt')      # Tokenizer models\n",
        "nltk.download('stopwords')  # List of stopwords in different languages\n",
        "nltk.download('wordnet')    # WordNet lemmatizer data\n",
        "nltk.download('punkt_tab')  # Additional tokenization data (optional)\n",
        "\n",
        "# Load your dataset (the scrapped data file from the previous step)\n",
        "df_posts = pd.read_csv('reddit_stock_data_posts.csv')\n",
        "\n",
        "# Initialize text processing tools\n",
        "# Initialize NLP Tools:\n",
        "# Sets up the lemmatizer and stopword list for text preprocessing.\n",
        "lemmatizer = WordNetLemmatizer()\n",
        "stop_words = set(stopwords.words('english'))\n",
        "\n",
        "# Text Cleaning Function:\n",
        "# Converts text to lowercase for consistency.\n",
        "# Removes URLs, mentions, non-alphabetic characters, and extra spaces.\n",
        "# Tokenizes the text into individual words.\n",
        "# Removes stopwords (common words like \"the\", \"and\" that don't add much meaning).\n",
        "# Applies lemmatization to convert words to their root form (e.g., \"running\" becomes \"run\").\n",
        "def clean_text(text):\n",
        "    # Convert text to lowercase\n",
        "    text = text.lower()\n",
        "\n",
        "    # Remove URLs, mentions, and other unwanted characters\n",
        "    text = re.sub(r'http\\S+|www\\S+|https\\S+', '', text)  # Remove URLs\n",
        "    text = re.sub(r'@\\S+', '', text)  # Remove mentions\n",
        "    text = re.sub(r'[^a-zA-Z\\s]', '', text)  # Remove non-alphabetic characters\n",
        "\n",
        "    # Remove extra whitespace and newlines\n",
        "    text = re.sub(r'\\s+', ' ', text).strip()\n",
        "\n",
        "    # Remove stopwords and tokenize\n",
        "    tokens = word_tokenize(text)\n",
        "    tokens = [t for t in tokens if t not in stop_words]\n",
        "\n",
        "    # Lemmatization (converting words to their base form)\n",
        "    tokens = [lemmatizer.lemmatize(t) for t in tokens]\n",
        "\n",
        "    # Join tokens back to a string\n",
        "    return ' '.join(tokens)\n",
        "\n",
        "# Function to handle missing values and clean text\n",
        "# Clean Multiple Columns:\n",
        "# Applies the clean_text function to columns with text data, handling missing values by converting them to empty strings.\n",
        "def clean_column(column):\n",
        "    return column.apply(lambda x: clean_text(str(x)) if isinstance(x, str) else '').fillna('')\n",
        "\n",
        "# Apply text cleaning to title, content, and comments\n",
        "df_posts['cleaned_title'] = clean_column(df_posts['title'])\n",
        "df_posts['cleaned_content'] = clean_column(df_posts['content'])\n",
        "\n",
        "# Function to calculate sentiment polarity (Positive, Negative, Neutral)\n",
        "def get_sentiment(text):\n",
        "    blob = TextBlob(text)\n",
        "    # Return sentiment polarity: -1 (negative) to 1 (positive)\n",
        "    return blob.sentiment.polarity\n",
        "\n",
        "# Apply sentiment analysis to titles, content, and comments\n",
        "df_posts['title_sentiment'] = df_posts['cleaned_title'].apply(get_sentiment)\n",
        "df_posts['content_sentiment'] = df_posts['cleaned_content'].apply(get_sentiment)\n",
        "\n",
        "# Function to classify sentiment as Positive, Negative, Neutral based on polarity\n",
        "def classify_sentiment(polarity):\n",
        "    if polarity > 0.1:\n",
        "        return 'Positive'\n",
        "    elif polarity < -0.1:\n",
        "        return 'Negative'\n",
        "    else:\n",
        "        return 'Neutral'\n",
        "\n",
        "# Apply sentiment classification\n",
        "df_posts['title_sentiment_class'] = df_posts['title_sentiment'].apply(classify_sentiment)\n",
        "df_posts['content_sentiment_class'] = df_posts['content_sentiment'].apply(classify_sentiment)\n",
        "\n",
        "# Save the cleaned and processed data\n",
        "df_posts.to_csv('reddit_stock_data_posts_cleaned.csv', index=False)\n",
        "\n",
        "print(\"Data preprocessing and cleaning complete. Saved\")"
      ],
      "metadata": {
        "colab": {
          "base_uri": "https://localhost:8080/"
        },
        "id": "Ai_RnwAFhZmZ",
        "outputId": "fd4e13d4-deff-4b6b-cc8c-270b3cc5ccd0"
      },
      "execution_count": null,
      "outputs": [
        {
          "output_type": "stream",
          "name": "stderr",
          "text": [
            "[nltk_data] Downloading package punkt to /root/nltk_data...\n",
            "[nltk_data]   Package punkt is already up-to-date!\n",
            "[nltk_data] Downloading package stopwords to /root/nltk_data...\n",
            "[nltk_data]   Package stopwords is already up-to-date!\n",
            "[nltk_data] Downloading package wordnet to /root/nltk_data...\n",
            "[nltk_data]   Package wordnet is already up-to-date!\n",
            "[nltk_data] Downloading package punkt_tab to /root/nltk_data...\n",
            "[nltk_data]   Package punkt_tab is already up-to-date!\n"
          ]
        },
        {
          "output_type": "stream",
          "name": "stdout",
          "text": [
            "Data preprocessing and cleaning complete. Saved\n"
          ]
        }
      ]
    },
    {
      "cell_type": "code",
      "source": [
        "fd1 = pd.read_csv('reddit_stock_data_posts_cleaned.csv')  # Stored the data which is processed well into csv file\n",
        "fd1.head()                                                # Gives the top 5 rows of datframe"
      ],
      "metadata": {
        "colab": {
          "base_uri": "https://localhost:8080/",
          "height": 521
        },
        "id": "WrY9mZrtiDMg",
        "outputId": "ffac7647-6bf2-422e-bef9-e458128cfb07"
      },
      "execution_count": null,
      "outputs": [
        {
          "output_type": "execute_result",
          "data": {
            "text/plain": [
              "        subreddit                                   title content   score  \\\n",
              "0  WallStreetBets                  Times Square right now     NaN  489193   \n",
              "1  WallStreetBets  UPVOTE so everyone sees we got SUPPORT     NaN  338563   \n",
              "2  WallStreetBets           GME YOLO update — Jan 28 2021     NaN  300871   \n",
              "3  WallStreetBets    GME YOLO month-end update — Jan 2021     NaN  264904   \n",
              "4  WallStreetBets                       It’s treason then     NaN  247637   \n",
              "\n",
              "   num_comments                                  url          created_utc  \\\n",
              "0         14013      https://v.redd.it/x64z70f7eie61  2021-01-30 18:00:38   \n",
              "1         12843  https://i.redd.it/sgoqy8nyt2e61.png  2021-01-28 13:40:34   \n",
              "2         23007  https://i.redd.it/opzucppb15e61.png  2021-01-28 21:06:23   \n",
              "3         19896  https://i.redd.it/r557em3t5ce61.png  2021-01-29 21:04:45   \n",
              "4          4596  https://i.redd.it/d3t66lv1yce61.jpg  2021-01-29 23:40:59   \n",
              "\n",
              "   upvote_ratio                author                    cleaned_title  \\\n",
              "0          0.99  SomeGuyInDeutschland                time square right   \n",
              "1          0.98              vrweensy  upvote everyone see got support   \n",
              "2          0.98      DeepFuckingValue              gme yolo update jan   \n",
              "3          0.98      DeepFuckingValue     gme yolo monthend update jan   \n",
              "4          0.98              keenfeed                          treason   \n",
              "\n",
              "  cleaned_content  title_sentiment  content_sentiment title_sentiment_class  \\\n",
              "0             NaN         0.285714                0.0              Positive   \n",
              "1             NaN         0.000000                0.0               Neutral   \n",
              "2             NaN         0.000000                0.0               Neutral   \n",
              "3             NaN         0.000000                0.0               Neutral   \n",
              "4             NaN         0.000000                0.0               Neutral   \n",
              "\n",
              "  content_sentiment_class  \n",
              "0                 Neutral  \n",
              "1                 Neutral  \n",
              "2                 Neutral  \n",
              "3                 Neutral  \n",
              "4                 Neutral  "
            ],
            "text/html": [
              "\n",
              "  <div id=\"df-09a9abd7-8333-4856-a58f-95994d2c976e\" class=\"colab-df-container\">\n",
              "    <div>\n",
              "<style scoped>\n",
              "    .dataframe tbody tr th:only-of-type {\n",
              "        vertical-align: middle;\n",
              "    }\n",
              "\n",
              "    .dataframe tbody tr th {\n",
              "        vertical-align: top;\n",
              "    }\n",
              "\n",
              "    .dataframe thead th {\n",
              "        text-align: right;\n",
              "    }\n",
              "</style>\n",
              "<table border=\"1\" class=\"dataframe\">\n",
              "  <thead>\n",
              "    <tr style=\"text-align: right;\">\n",
              "      <th></th>\n",
              "      <th>subreddit</th>\n",
              "      <th>title</th>\n",
              "      <th>content</th>\n",
              "      <th>score</th>\n",
              "      <th>num_comments</th>\n",
              "      <th>url</th>\n",
              "      <th>created_utc</th>\n",
              "      <th>upvote_ratio</th>\n",
              "      <th>author</th>\n",
              "      <th>cleaned_title</th>\n",
              "      <th>cleaned_content</th>\n",
              "      <th>title_sentiment</th>\n",
              "      <th>content_sentiment</th>\n",
              "      <th>title_sentiment_class</th>\n",
              "      <th>content_sentiment_class</th>\n",
              "    </tr>\n",
              "  </thead>\n",
              "  <tbody>\n",
              "    <tr>\n",
              "      <th>0</th>\n",
              "      <td>WallStreetBets</td>\n",
              "      <td>Times Square right now</td>\n",
              "      <td>NaN</td>\n",
              "      <td>489193</td>\n",
              "      <td>14013</td>\n",
              "      <td>https://v.redd.it/x64z70f7eie61</td>\n",
              "      <td>2021-01-30 18:00:38</td>\n",
              "      <td>0.99</td>\n",
              "      <td>SomeGuyInDeutschland</td>\n",
              "      <td>time square right</td>\n",
              "      <td>NaN</td>\n",
              "      <td>0.285714</td>\n",
              "      <td>0.0</td>\n",
              "      <td>Positive</td>\n",
              "      <td>Neutral</td>\n",
              "    </tr>\n",
              "    <tr>\n",
              "      <th>1</th>\n",
              "      <td>WallStreetBets</td>\n",
              "      <td>UPVOTE so everyone sees we got SUPPORT</td>\n",
              "      <td>NaN</td>\n",
              "      <td>338563</td>\n",
              "      <td>12843</td>\n",
              "      <td>https://i.redd.it/sgoqy8nyt2e61.png</td>\n",
              "      <td>2021-01-28 13:40:34</td>\n",
              "      <td>0.98</td>\n",
              "      <td>vrweensy</td>\n",
              "      <td>upvote everyone see got support</td>\n",
              "      <td>NaN</td>\n",
              "      <td>0.000000</td>\n",
              "      <td>0.0</td>\n",
              "      <td>Neutral</td>\n",
              "      <td>Neutral</td>\n",
              "    </tr>\n",
              "    <tr>\n",
              "      <th>2</th>\n",
              "      <td>WallStreetBets</td>\n",
              "      <td>GME YOLO update — Jan 28 2021</td>\n",
              "      <td>NaN</td>\n",
              "      <td>300871</td>\n",
              "      <td>23007</td>\n",
              "      <td>https://i.redd.it/opzucppb15e61.png</td>\n",
              "      <td>2021-01-28 21:06:23</td>\n",
              "      <td>0.98</td>\n",
              "      <td>DeepFuckingValue</td>\n",
              "      <td>gme yolo update jan</td>\n",
              "      <td>NaN</td>\n",
              "      <td>0.000000</td>\n",
              "      <td>0.0</td>\n",
              "      <td>Neutral</td>\n",
              "      <td>Neutral</td>\n",
              "    </tr>\n",
              "    <tr>\n",
              "      <th>3</th>\n",
              "      <td>WallStreetBets</td>\n",
              "      <td>GME YOLO month-end update — Jan 2021</td>\n",
              "      <td>NaN</td>\n",
              "      <td>264904</td>\n",
              "      <td>19896</td>\n",
              "      <td>https://i.redd.it/r557em3t5ce61.png</td>\n",
              "      <td>2021-01-29 21:04:45</td>\n",
              "      <td>0.98</td>\n",
              "      <td>DeepFuckingValue</td>\n",
              "      <td>gme yolo monthend update jan</td>\n",
              "      <td>NaN</td>\n",
              "      <td>0.000000</td>\n",
              "      <td>0.0</td>\n",
              "      <td>Neutral</td>\n",
              "      <td>Neutral</td>\n",
              "    </tr>\n",
              "    <tr>\n",
              "      <th>4</th>\n",
              "      <td>WallStreetBets</td>\n",
              "      <td>It’s treason then</td>\n",
              "      <td>NaN</td>\n",
              "      <td>247637</td>\n",
              "      <td>4596</td>\n",
              "      <td>https://i.redd.it/d3t66lv1yce61.jpg</td>\n",
              "      <td>2021-01-29 23:40:59</td>\n",
              "      <td>0.98</td>\n",
              "      <td>keenfeed</td>\n",
              "      <td>treason</td>\n",
              "      <td>NaN</td>\n",
              "      <td>0.000000</td>\n",
              "      <td>0.0</td>\n",
              "      <td>Neutral</td>\n",
              "      <td>Neutral</td>\n",
              "    </tr>\n",
              "  </tbody>\n",
              "</table>\n",
              "</div>\n",
              "    <div class=\"colab-df-buttons\">\n",
              "\n",
              "  <div class=\"colab-df-container\">\n",
              "    <button class=\"colab-df-convert\" onclick=\"convertToInteractive('df-09a9abd7-8333-4856-a58f-95994d2c976e')\"\n",
              "            title=\"Convert this dataframe to an interactive table.\"\n",
              "            style=\"display:none;\">\n",
              "\n",
              "  <svg xmlns=\"http://www.w3.org/2000/svg\" height=\"24px\" viewBox=\"0 -960 960 960\">\n",
              "    <path d=\"M120-120v-720h720v720H120Zm60-500h600v-160H180v160Zm220 220h160v-160H400v160Zm0 220h160v-160H400v160ZM180-400h160v-160H180v160Zm440 0h160v-160H620v160ZM180-180h160v-160H180v160Zm440 0h160v-160H620v160Z\"/>\n",
              "  </svg>\n",
              "    </button>\n",
              "\n",
              "  <style>\n",
              "    .colab-df-container {\n",
              "      display:flex;\n",
              "      gap: 12px;\n",
              "    }\n",
              "\n",
              "    .colab-df-convert {\n",
              "      background-color: #E8F0FE;\n",
              "      border: none;\n",
              "      border-radius: 50%;\n",
              "      cursor: pointer;\n",
              "      display: none;\n",
              "      fill: #1967D2;\n",
              "      height: 32px;\n",
              "      padding: 0 0 0 0;\n",
              "      width: 32px;\n",
              "    }\n",
              "\n",
              "    .colab-df-convert:hover {\n",
              "      background-color: #E2EBFA;\n",
              "      box-shadow: 0px 1px 2px rgba(60, 64, 67, 0.3), 0px 1px 3px 1px rgba(60, 64, 67, 0.15);\n",
              "      fill: #174EA6;\n",
              "    }\n",
              "\n",
              "    .colab-df-buttons div {\n",
              "      margin-bottom: 4px;\n",
              "    }\n",
              "\n",
              "    [theme=dark] .colab-df-convert {\n",
              "      background-color: #3B4455;\n",
              "      fill: #D2E3FC;\n",
              "    }\n",
              "\n",
              "    [theme=dark] .colab-df-convert:hover {\n",
              "      background-color: #434B5C;\n",
              "      box-shadow: 0px 1px 3px 1px rgba(0, 0, 0, 0.15);\n",
              "      filter: drop-shadow(0px 1px 2px rgba(0, 0, 0, 0.3));\n",
              "      fill: #FFFFFF;\n",
              "    }\n",
              "  </style>\n",
              "\n",
              "    <script>\n",
              "      const buttonEl =\n",
              "        document.querySelector('#df-09a9abd7-8333-4856-a58f-95994d2c976e button.colab-df-convert');\n",
              "      buttonEl.style.display =\n",
              "        google.colab.kernel.accessAllowed ? 'block' : 'none';\n",
              "\n",
              "      async function convertToInteractive(key) {\n",
              "        const element = document.querySelector('#df-09a9abd7-8333-4856-a58f-95994d2c976e');\n",
              "        const dataTable =\n",
              "          await google.colab.kernel.invokeFunction('convertToInteractive',\n",
              "                                                    [key], {});\n",
              "        if (!dataTable) return;\n",
              "\n",
              "        const docLinkHtml = 'Like what you see? Visit the ' +\n",
              "          '<a target=\"_blank\" href=https://colab.research.google.com/notebooks/data_table.ipynb>data table notebook</a>'\n",
              "          + ' to learn more about interactive tables.';\n",
              "        element.innerHTML = '';\n",
              "        dataTable['output_type'] = 'display_data';\n",
              "        await google.colab.output.renderOutput(dataTable, element);\n",
              "        const docLink = document.createElement('div');\n",
              "        docLink.innerHTML = docLinkHtml;\n",
              "        element.appendChild(docLink);\n",
              "      }\n",
              "    </script>\n",
              "  </div>\n",
              "\n",
              "\n",
              "<div id=\"df-e4b8e169-ee74-4061-b4ff-14bda27071e9\">\n",
              "  <button class=\"colab-df-quickchart\" onclick=\"quickchart('df-e4b8e169-ee74-4061-b4ff-14bda27071e9')\"\n",
              "            title=\"Suggest charts\"\n",
              "            style=\"display:none;\">\n",
              "\n",
              "<svg xmlns=\"http://www.w3.org/2000/svg\" height=\"24px\"viewBox=\"0 0 24 24\"\n",
              "     width=\"24px\">\n",
              "    <g>\n",
              "        <path d=\"M19 3H5c-1.1 0-2 .9-2 2v14c0 1.1.9 2 2 2h14c1.1 0 2-.9 2-2V5c0-1.1-.9-2-2-2zM9 17H7v-7h2v7zm4 0h-2V7h2v10zm4 0h-2v-4h2v4z\"/>\n",
              "    </g>\n",
              "</svg>\n",
              "  </button>\n",
              "\n",
              "<style>\n",
              "  .colab-df-quickchart {\n",
              "      --bg-color: #E8F0FE;\n",
              "      --fill-color: #1967D2;\n",
              "      --hover-bg-color: #E2EBFA;\n",
              "      --hover-fill-color: #174EA6;\n",
              "      --disabled-fill-color: #AAA;\n",
              "      --disabled-bg-color: #DDD;\n",
              "  }\n",
              "\n",
              "  [theme=dark] .colab-df-quickchart {\n",
              "      --bg-color: #3B4455;\n",
              "      --fill-color: #D2E3FC;\n",
              "      --hover-bg-color: #434B5C;\n",
              "      --hover-fill-color: #FFFFFF;\n",
              "      --disabled-bg-color: #3B4455;\n",
              "      --disabled-fill-color: #666;\n",
              "  }\n",
              "\n",
              "  .colab-df-quickchart {\n",
              "    background-color: var(--bg-color);\n",
              "    border: none;\n",
              "    border-radius: 50%;\n",
              "    cursor: pointer;\n",
              "    display: none;\n",
              "    fill: var(--fill-color);\n",
              "    height: 32px;\n",
              "    padding: 0;\n",
              "    width: 32px;\n",
              "  }\n",
              "\n",
              "  .colab-df-quickchart:hover {\n",
              "    background-color: var(--hover-bg-color);\n",
              "    box-shadow: 0 1px 2px rgba(60, 64, 67, 0.3), 0 1px 3px 1px rgba(60, 64, 67, 0.15);\n",
              "    fill: var(--button-hover-fill-color);\n",
              "  }\n",
              "\n",
              "  .colab-df-quickchart-complete:disabled,\n",
              "  .colab-df-quickchart-complete:disabled:hover {\n",
              "    background-color: var(--disabled-bg-color);\n",
              "    fill: var(--disabled-fill-color);\n",
              "    box-shadow: none;\n",
              "  }\n",
              "\n",
              "  .colab-df-spinner {\n",
              "    border: 2px solid var(--fill-color);\n",
              "    border-color: transparent;\n",
              "    border-bottom-color: var(--fill-color);\n",
              "    animation:\n",
              "      spin 1s steps(1) infinite;\n",
              "  }\n",
              "\n",
              "  @keyframes spin {\n",
              "    0% {\n",
              "      border-color: transparent;\n",
              "      border-bottom-color: var(--fill-color);\n",
              "      border-left-color: var(--fill-color);\n",
              "    }\n",
              "    20% {\n",
              "      border-color: transparent;\n",
              "      border-left-color: var(--fill-color);\n",
              "      border-top-color: var(--fill-color);\n",
              "    }\n",
              "    30% {\n",
              "      border-color: transparent;\n",
              "      border-left-color: var(--fill-color);\n",
              "      border-top-color: var(--fill-color);\n",
              "      border-right-color: var(--fill-color);\n",
              "    }\n",
              "    40% {\n",
              "      border-color: transparent;\n",
              "      border-right-color: var(--fill-color);\n",
              "      border-top-color: var(--fill-color);\n",
              "    }\n",
              "    60% {\n",
              "      border-color: transparent;\n",
              "      border-right-color: var(--fill-color);\n",
              "    }\n",
              "    80% {\n",
              "      border-color: transparent;\n",
              "      border-right-color: var(--fill-color);\n",
              "      border-bottom-color: var(--fill-color);\n",
              "    }\n",
              "    90% {\n",
              "      border-color: transparent;\n",
              "      border-bottom-color: var(--fill-color);\n",
              "    }\n",
              "  }\n",
              "</style>\n",
              "\n",
              "  <script>\n",
              "    async function quickchart(key) {\n",
              "      const quickchartButtonEl =\n",
              "        document.querySelector('#' + key + ' button');\n",
              "      quickchartButtonEl.disabled = true;  // To prevent multiple clicks.\n",
              "      quickchartButtonEl.classList.add('colab-df-spinner');\n",
              "      try {\n",
              "        const charts = await google.colab.kernel.invokeFunction(\n",
              "            'suggestCharts', [key], {});\n",
              "      } catch (error) {\n",
              "        console.error('Error during call to suggestCharts:', error);\n",
              "      }\n",
              "      quickchartButtonEl.classList.remove('colab-df-spinner');\n",
              "      quickchartButtonEl.classList.add('colab-df-quickchart-complete');\n",
              "    }\n",
              "    (() => {\n",
              "      let quickchartButtonEl =\n",
              "        document.querySelector('#df-e4b8e169-ee74-4061-b4ff-14bda27071e9 button');\n",
              "      quickchartButtonEl.style.display =\n",
              "        google.colab.kernel.accessAllowed ? 'block' : 'none';\n",
              "    })();\n",
              "  </script>\n",
              "</div>\n",
              "\n",
              "    </div>\n",
              "  </div>\n"
            ],
            "application/vnd.google.colaboratory.intrinsic+json": {
              "type": "dataframe",
              "variable_name": "fd1",
              "summary": "{\n  \"name\": \"fd1\",\n  \"rows\": 16947,\n  \"fields\": [\n    {\n      \"column\": \"subreddit\",\n      \"properties\": {\n        \"dtype\": \"category\",\n        \"num_unique_values\": 23,\n        \"samples\": [\n          \"StockGains\",\n          \"shortsqueeze\",\n          \"WallStreetBets\"\n        ],\n        \"semantic_type\": \"\",\n        \"description\": \"\"\n      }\n    },\n    {\n      \"column\": \"title\",\n      \"properties\": {\n        \"dtype\": \"string\",\n        \"num_unique_values\": 16729,\n        \"samples\": [\n          \"It does work!\",\n          \"Vanguard launches ESG-screened global corporate bond ETF in Europe\",\n          \"India lets cryptocurrencies back in\"\n        ],\n        \"semantic_type\": \"\",\n        \"description\": \"\"\n      }\n    },\n    {\n      \"column\": \"content\",\n      \"properties\": {\n        \"dtype\": \"string\",\n        \"num_unique_values\": 9877,\n        \"samples\": [\n          \"Hello [/r/financialindependence](https://www.reddit.com/r/financialindependence)! I've been lurking this subreddit for about a year and i'm proud to say that i've saved $10,000 at the age of 24! I started really saving at the start of this year. I know it is not actually much money, but it is my first step and it took a few months to get here. I'm eyeing $20,000 now as my next goal and I think I will be easier to hit the next target due to a change in lifestyle! I feel so much better now, not only because I have the buffer but because I never get to the point where my checking account is at $0 anymore. Not too long ago I remember being unable to afford to buy water from a vending machine at work because I had no money even though I was being paid well.\\n\\nAt the start of the year (not a new years resolution, it just worked out that way haha) I decided to stop being broke. Since I started college I always thought of myself as frugal since I never made super large purchases or bought expensive cloths or anything like that. What i've realized is that I enjoy food. A lot. Which is strange how much I spent on food since I am skinny. I went out to eat every other day, I bought expensive food just because I thought the cheaper food wouldn't be as good, I bought too much food and wasted some. I ate at work every day for breakfast and lunch, etc. I stopped eating a work, started making my own meals at home and eating breakfast before I went to work, and I also stopped eating out almost all together. I also plan how I shop more, buying the cheaper options when I can and buying things in bulk as much as is reasonable.\\n\\nI also had (actually still have, trying to stop) shopping-while-bored syndrome, and while I would never buy anything very expensive I would always be in thrift shops buying small things that I did not need. Thrift shopping was my hobby. I've tried to stop doing that by taking up other hobbies that can fill my time when I am bored and that do not bleed money. I've taken up running , and i've also taken up fishing which is very low cost for a lot of fun. I want to learn how to clean and eat the fish as well, which would provide even more value.\\n\\nSeeing the money grow is really very motivating, and i'm looking for ways to make it grow faster. I've thought of a number of ideas and finally acted on one just this weekend. I've been running for a while and decided to try dog running. A women in my neighborhood let me run her dog, she and the dog were pleased. I did not charge money for it, but I know she is willing to pay money for a regular service which is exciting.\\n\\nI wouldn't have made any of these transitions had I not been reading this subreddit. I have new goals for myself and can now see myself being someone who can FI instead of someone who sees work as a requirement and can't afford water out of a vending machine.\\n\\nThank you!  \\n\\n\\nEDIT: Oh wow this got big. Thank you all for your suggestions an encouragement!\",\n          \"**TLDR; SimpleSwap won\\u2019t send your coins if exchange rates change unfavorably for them, and will hold onto your coins waiting for them to improve in their favor. Otherwise they hold them hostage unless you want to accept fewer coins. Customer service will make up lies as needed.**\\n\\n\\\\*I\\u2019m posting here because they actively advertise (spam) on this sub regularly, and people have a right to know how they operate.\\n\\nI recently sent several thousand USD worth of coins to SimpleSwap. They received the coins very quickly, confirmed it, then it was stuck on \\u201cexchanging\\u201d for hours. 24 hours went by, and I reached out to customer service, who eventually responded to say that it was a \\u201cone time technical issue\\u201d and that the engineers were working on resolving it. By the second day, they reached back out to say that the problem really was that the exchange rates have changed, and so the transaction had been automatically suspended as a result to *protect my funds*. SimpleSwap said they\\u2019ll only be willing to send me fewer coins but not the originally agreed amount.\\n\\nI replied and said that the new rate only negatively affects them, not me, and that they should send the correct amount of coins as agreed. SimpleSwap then claimed that actually the problem is really that I chose \\u201cfloating rate\\u201d instead of \\u201cfixed rate\\u201d (which is a lie, I always have chosen fixed rate). This is obviously incorrect as had I chosen floating rate, the transaction would have gone through automatically since it would have made them more money, which itself is the reason I never choose floating rate.\\n\\nSo basically, if rates change, SimpleSwap only send the coin if rates change in their favor, otherwise they won\\u2019t send you the agreed amount. Here it is over two days later and SimpleSwap still has my coins, and are **holding them hostage** unless I want to accept fewer coins, and they\\u2019re making up multiple lies to try and cover themselves. I asked for a refund, but as of this posting they have not done so.\",\n          \"https://www.cnbc.com/2019/12/17/alan-greenspan-says-inflation-is-inevitably-going-to-rise-as-deficit-balloons-over-1-trillion.html\\n\\nWhy does he say this now when we've pumped 4Trillion and no inflation has occurred ?\"\n        ],\n        \"semantic_type\": \"\",\n        \"description\": \"\"\n      }\n    },\n    {\n      \"column\": \"score\",\n      \"properties\": {\n        \"dtype\": \"number\",\n        \"std\": 17109,\n        \"min\": 0,\n        \"max\": 489193,\n        \"num_unique_values\": 5607,\n        \"samples\": [\n          1356,\n          3459,\n          59602\n        ],\n        \"semantic_type\": \"\",\n        \"description\": \"\"\n      }\n    },\n    {\n      \"column\": \"num_comments\",\n      \"properties\": {\n        \"dtype\": \"number\",\n        \"std\": 1864,\n        \"min\": 0,\n        \"max\": 87736,\n        \"num_unique_values\": 2175,\n        \"samples\": [\n          1622,\n          68,\n          924\n        ],\n        \"semantic_type\": \"\",\n        \"description\": \"\"\n      }\n    },\n    {\n      \"column\": \"url\",\n      \"properties\": {\n        \"dtype\": \"string\",\n        \"num_unique_values\": 16902,\n        \"samples\": [\n          \"https://www.reddit.com/r/fintech/comments/r73p8y/what_matters_in_fintech_customer_experience_the/\",\n          \"https://www.reddit.com/r/financialindependence/comments/cgeori/a_dispatch_from_the_boring_middle/\",\n          \"https://www.reuters.com/business/new-york-widens-lead-over-london-top-finance-centres-index-2022-03-24/\"\n        ],\n        \"semantic_type\": \"\",\n        \"description\": \"\"\n      }\n    },\n    {\n      \"column\": \"created_utc\",\n      \"properties\": {\n        \"dtype\": \"object\",\n        \"num_unique_values\": 16942,\n        \"samples\": [\n          \"2017-09-07 13:47:01\",\n          \"2024-07-13 17:04:42\",\n          \"2022-08-21 19:37:59\"\n        ],\n        \"semantic_type\": \"\",\n        \"description\": \"\"\n      }\n    },\n    {\n      \"column\": \"upvote_ratio\",\n      \"properties\": {\n        \"dtype\": \"number\",\n        \"std\": 0.07894633448519604,\n        \"min\": 0.14,\n        \"max\": 1.0,\n        \"num_unique_values\": 65,\n        \"samples\": [\n          0.42,\n          0.29,\n          0.99\n        ],\n        \"semantic_type\": \"\",\n        \"description\": \"\"\n      }\n    },\n    {\n      \"column\": \"author\",\n      \"properties\": {\n        \"dtype\": \"string\",\n        \"num_unique_values\": 9697,\n        \"samples\": [\n          \"jasonluxton\",\n          \"broken_throw_away__\",\n          \"darkstriders\"\n        ],\n        \"semantic_type\": \"\",\n        \"description\": \"\"\n      }\n    },\n    {\n      \"column\": \"cleaned_title\",\n      \"properties\": {\n        \"dtype\": \"string\",\n        \"num_unique_values\": 16165,\n        \"samples\": [\n          \"microsoft reveals detail netflix game service launching sept\",\n          \"getting started pii position start\",\n          \"mostly lurker wsb usually good laugh people much helpful sensible grounded thanks commentary\"\n        ],\n        \"semantic_type\": \"\",\n        \"description\": \"\"\n      }\n    },\n    {\n      \"column\": \"cleaned_content\",\n      \"properties\": {\n        \"dtype\": \"string\",\n        \"num_unique_values\": 9590,\n        \"samples\": [\n          \"youtube tutorial feel weird af feel like one want know make money good worth channel\",\n          \"hello wondering popular research topic fintech people trying figure studying ive looking around lot research paper find focused fintech change modern world future want know specific example concept idea research topic abstracted reference fintech like machine learning us specific thing like study impact fintech bankless population third world country comment help thanks taking time well\",\n          \"there rich kid town let call melvin think he really smart find coupon new nintendo switch holiday limit number unit easy ill go ahead sell switch buy coupon easiest ill ever make go tell parent friend citadel country club get new nintendo switch kid collect parent k use money purchase nintendo switch k hell earned k hour parent proud there another kid watching melvin entire time let call keith keith doesnt like melvin keith good friend guy gamestop find new switch shipped entire country keith friend buy nintendo switch spot later day melvin go gamestop coupon say ill take nintendo switch please gamestop guy look say sorry sold melvin go next gamestop story sold go gamestops city cant find single switch wont able fulfill order meanwhile keith telling friend melvin promised member country club nobody sell nintendo switch bought matter much offer nobody like melvin everybody hold nintendo switch melvin trouble parent rich friend asking getting nintendo switch melvins parent angry dont want lose standing citadel country club help melvin get nintendo switch remember switch city melvin created expectation among parent get short percentage melvin promised actually exist price nintendo switch city skyrocket melvins parent able get unit keiths friend pay really inflated price first nearing christmas every rich parent country club desperate nintendo switch promised kid cant trust melvin able get one start bidding switch everybody town action everybody want get nintendo switch sell country club meanwhile keith friend hanging playing animal crossing edit thanks love award im really grateful ill try answer many question thread dm edit astute monkey pointed flaw story example oversimplification left important element here expanded version ive adjust number make room new wrinkle accurate version melvin went brother steves high school borrowed nintendo switch high schoolers tell doesnt give back within hour give per day high schoolers know likely melvin give back hour perfectly happy collect per day sell switch country club parent owes switch high schoolers naked short sold switch borrowed didnt let assume country club parent wrapped switch tree circulation although switch city switch circulation keiths friend situation melvin owes switch high schoolers available short position float melvin overconfident think get switch day worse case day maybe pay switch x penalty hell still made penalty due high schoolers interest melvins carrying cost longer melvin get switch expensive going day he break even lose day get switch get expensive melvin parent quickly whats happening past week gme hedge fund bleeding money every day fulfill iou asking melvin doesnt pay high schoolers money let say new zelda game coming want play also know price switch rising even melvin offered cancel iou know longer get switch open market addition high schoolers probably aware rising trend switch price may think better wait switch worth day get paid steve possible melvin could buy way difficult\"\n        ],\n        \"semantic_type\": \"\",\n        \"description\": \"\"\n      }\n    },\n    {\n      \"column\": \"title_sentiment\",\n      \"properties\": {\n        \"dtype\": \"number\",\n        \"std\": 0.23781923039228176,\n        \"min\": -1.0,\n        \"max\": 1.0,\n        \"num_unique_values\": 783,\n        \"samples\": [\n          0.0444444444444444,\n          0.2556818181818182,\n          0.0699999999999999\n        ],\n        \"semantic_type\": \"\",\n        \"description\": \"\"\n      }\n    },\n    {\n      \"column\": \"content_sentiment\",\n      \"properties\": {\n        \"dtype\": \"number\",\n        \"std\": 0.1298432162085396,\n        \"min\": -1.0,\n        \"max\": 1.0,\n        \"num_unique_values\": 6076,\n        \"samples\": [\n          0.1638655462184874,\n          0.0874206349206349,\n          0.1075487012987013\n        ],\n        \"semantic_type\": \"\",\n        \"description\": \"\"\n      }\n    },\n    {\n      \"column\": \"title_sentiment_class\",\n      \"properties\": {\n        \"dtype\": \"category\",\n        \"num_unique_values\": 3,\n        \"samples\": [\n          \"Positive\",\n          \"Neutral\",\n          \"Negative\"\n        ],\n        \"semantic_type\": \"\",\n        \"description\": \"\"\n      }\n    },\n    {\n      \"column\": \"content_sentiment_class\",\n      \"properties\": {\n        \"dtype\": \"category\",\n        \"num_unique_values\": 3,\n        \"samples\": [\n          \"Neutral\",\n          \"Negative\",\n          \"Positive\"\n        ],\n        \"semantic_type\": \"\",\n        \"description\": \"\"\n      }\n    }\n  ]\n}"
            }
          },
          "metadata": {},
          "execution_count": 16
        }
      ]
    },
    {
      "cell_type": "code",
      "source": [
        "fd1.shape   # Returns the shape of processed dataframe"
      ],
      "metadata": {
        "colab": {
          "base_uri": "https://localhost:8080/"
        },
        "id": "4j_LypauiK52",
        "outputId": "f24b11cc-b2c3-4bf6-bfb7-d76a402fcb9f"
      },
      "execution_count": null,
      "outputs": [
        {
          "output_type": "execute_result",
          "data": {
            "text/plain": [
              "(16947, 15)"
            ]
          },
          "metadata": {},
          "execution_count": 17
        }
      ]
    },
    {
      "cell_type": "markdown",
      "source": [
        "Dataframe has 16947 rows and 15 columns which means 6 new columns are added extra into dataframe like 'cleaned_title',\n",
        "       'cleaned_content', 'title_sentiment', 'content_sentiment',\n",
        "       'title_sentiment_class', 'content_sentiment_class'...."
      ],
      "metadata": {
        "id": "drazp0pNLCHY"
      }
    },
    {
      "cell_type": "code",
      "source": [
        "fd1.columns   # columns of dataframe"
      ],
      "metadata": {
        "colab": {
          "base_uri": "https://localhost:8080/"
        },
        "id": "X1YRCz8RiO0J",
        "outputId": "e3c80744-92b7-4fcc-dfa2-052900636a64"
      },
      "execution_count": null,
      "outputs": [
        {
          "output_type": "execute_result",
          "data": {
            "text/plain": [
              "Index(['subreddit', 'title', 'content', 'score', 'num_comments', 'url',\n",
              "       'created_utc', 'upvote_ratio', 'author', 'cleaned_title',\n",
              "       'cleaned_content', 'title_sentiment', 'content_sentiment',\n",
              "       'title_sentiment_class', 'content_sentiment_class'],\n",
              "      dtype='object')"
            ]
          },
          "metadata": {},
          "execution_count": 18
        }
      ]
    },
    {
      "cell_type": "code",
      "source": [
        "# Count NaN values in each column\n",
        "nan_count_per_column = fd1.isna().sum()\n",
        "\n",
        "# Display the result\n",
        "print(\"NaN values per column:\")\n",
        "nan_count_per_column"
      ],
      "metadata": {
        "colab": {
          "base_uri": "https://localhost:8080/",
          "height": 571
        },
        "id": "unz9IvfOiWia",
        "outputId": "2bda77c4-c1d9-47cc-e0e0-8ca1fd11159a"
      },
      "execution_count": null,
      "outputs": [
        {
          "output_type": "stream",
          "name": "stdout",
          "text": [
            "NaN values per column:\n"
          ]
        },
        {
          "output_type": "execute_result",
          "data": {
            "text/plain": [
              "subreddit                     0\n",
              "title                         0\n",
              "content                    6821\n",
              "score                         0\n",
              "num_comments                  0\n",
              "url                           0\n",
              "created_utc                   0\n",
              "upvote_ratio                  0\n",
              "author                     1283\n",
              "cleaned_title                42\n",
              "cleaned_content            7051\n",
              "title_sentiment               0\n",
              "content_sentiment             0\n",
              "title_sentiment_class         0\n",
              "content_sentiment_class       0\n",
              "dtype: int64"
            ],
            "text/html": [
              "<div>\n",
              "<style scoped>\n",
              "    .dataframe tbody tr th:only-of-type {\n",
              "        vertical-align: middle;\n",
              "    }\n",
              "\n",
              "    .dataframe tbody tr th {\n",
              "        vertical-align: top;\n",
              "    }\n",
              "\n",
              "    .dataframe thead th {\n",
              "        text-align: right;\n",
              "    }\n",
              "</style>\n",
              "<table border=\"1\" class=\"dataframe\">\n",
              "  <thead>\n",
              "    <tr style=\"text-align: right;\">\n",
              "      <th></th>\n",
              "      <th>0</th>\n",
              "    </tr>\n",
              "  </thead>\n",
              "  <tbody>\n",
              "    <tr>\n",
              "      <th>subreddit</th>\n",
              "      <td>0</td>\n",
              "    </tr>\n",
              "    <tr>\n",
              "      <th>title</th>\n",
              "      <td>0</td>\n",
              "    </tr>\n",
              "    <tr>\n",
              "      <th>content</th>\n",
              "      <td>6821</td>\n",
              "    </tr>\n",
              "    <tr>\n",
              "      <th>score</th>\n",
              "      <td>0</td>\n",
              "    </tr>\n",
              "    <tr>\n",
              "      <th>num_comments</th>\n",
              "      <td>0</td>\n",
              "    </tr>\n",
              "    <tr>\n",
              "      <th>url</th>\n",
              "      <td>0</td>\n",
              "    </tr>\n",
              "    <tr>\n",
              "      <th>created_utc</th>\n",
              "      <td>0</td>\n",
              "    </tr>\n",
              "    <tr>\n",
              "      <th>upvote_ratio</th>\n",
              "      <td>0</td>\n",
              "    </tr>\n",
              "    <tr>\n",
              "      <th>author</th>\n",
              "      <td>1283</td>\n",
              "    </tr>\n",
              "    <tr>\n",
              "      <th>cleaned_title</th>\n",
              "      <td>42</td>\n",
              "    </tr>\n",
              "    <tr>\n",
              "      <th>cleaned_content</th>\n",
              "      <td>7051</td>\n",
              "    </tr>\n",
              "    <tr>\n",
              "      <th>title_sentiment</th>\n",
              "      <td>0</td>\n",
              "    </tr>\n",
              "    <tr>\n",
              "      <th>content_sentiment</th>\n",
              "      <td>0</td>\n",
              "    </tr>\n",
              "    <tr>\n",
              "      <th>title_sentiment_class</th>\n",
              "      <td>0</td>\n",
              "    </tr>\n",
              "    <tr>\n",
              "      <th>content_sentiment_class</th>\n",
              "      <td>0</td>\n",
              "    </tr>\n",
              "  </tbody>\n",
              "</table>\n",
              "</div><br><label><b>dtype:</b> int64</label>"
            ]
          },
          "metadata": {},
          "execution_count": 25
        }
      ]
    },
    {
      "cell_type": "markdown",
      "source": [
        "We store the scrapped data into scarpped_data and processed data into cleaned_data for further use..."
      ],
      "metadata": {
        "id": "-DwiLRhoLqf8"
      }
    },
    {
      "cell_type": "code",
      "source": [
        "scrapped_data = pd.read_csv('reddit_stock_data_posts.csv')\n",
        "cleaned_data = pd.read_csv('reddit_stock_data_posts_cleaned.csv')"
      ],
      "metadata": {
        "id": "aPVO8fgijAwj"
      },
      "execution_count": null,
      "outputs": []
    },
    {
      "cell_type": "markdown",
      "source": [
        "Since the columns like \"content\", \"author\" , \"cleaned_title\" , \"cleaned_content\" have NaN values so We have to drop these rows..."
      ],
      "metadata": {
        "id": "jjcLR0JLLNtN"
      }
    },
    {
      "cell_type": "code",
      "source": [
        "fd1.dropna(inplace=True)   #Dropping the rows which has NaN values"
      ],
      "metadata": {
        "id": "VK91zpm3jXTx"
      },
      "execution_count": null,
      "outputs": []
    },
    {
      "cell_type": "code",
      "source": [
        "# Count NaN values in each column\n",
        "nan_count_per_column = fd1.isna().sum()\n",
        "\n",
        "# Display the result\n",
        "print(\"NaN values per column:\")\n",
        "nan_count_per_column"
      ],
      "metadata": {
        "colab": {
          "base_uri": "https://localhost:8080/",
          "height": 571
        },
        "id": "M66vJa_hjpQU",
        "outputId": "30a29dc0-4945-4fca-fe8b-ff49592e2959"
      },
      "execution_count": null,
      "outputs": [
        {
          "output_type": "stream",
          "name": "stdout",
          "text": [
            "NaN values per column:\n"
          ]
        },
        {
          "output_type": "execute_result",
          "data": {
            "text/plain": [
              "subreddit                  0\n",
              "title                      0\n",
              "content                    0\n",
              "score                      0\n",
              "num_comments               0\n",
              "url                        0\n",
              "created_utc                0\n",
              "upvote_ratio               0\n",
              "author                     0\n",
              "cleaned_title              0\n",
              "cleaned_content            0\n",
              "title_sentiment            0\n",
              "content_sentiment          0\n",
              "title_sentiment_class      0\n",
              "content_sentiment_class    0\n",
              "dtype: int64"
            ],
            "text/html": [
              "<div>\n",
              "<style scoped>\n",
              "    .dataframe tbody tr th:only-of-type {\n",
              "        vertical-align: middle;\n",
              "    }\n",
              "\n",
              "    .dataframe tbody tr th {\n",
              "        vertical-align: top;\n",
              "    }\n",
              "\n",
              "    .dataframe thead th {\n",
              "        text-align: right;\n",
              "    }\n",
              "</style>\n",
              "<table border=\"1\" class=\"dataframe\">\n",
              "  <thead>\n",
              "    <tr style=\"text-align: right;\">\n",
              "      <th></th>\n",
              "      <th>0</th>\n",
              "    </tr>\n",
              "  </thead>\n",
              "  <tbody>\n",
              "    <tr>\n",
              "      <th>subreddit</th>\n",
              "      <td>0</td>\n",
              "    </tr>\n",
              "    <tr>\n",
              "      <th>title</th>\n",
              "      <td>0</td>\n",
              "    </tr>\n",
              "    <tr>\n",
              "      <th>content</th>\n",
              "      <td>0</td>\n",
              "    </tr>\n",
              "    <tr>\n",
              "      <th>score</th>\n",
              "      <td>0</td>\n",
              "    </tr>\n",
              "    <tr>\n",
              "      <th>num_comments</th>\n",
              "      <td>0</td>\n",
              "    </tr>\n",
              "    <tr>\n",
              "      <th>url</th>\n",
              "      <td>0</td>\n",
              "    </tr>\n",
              "    <tr>\n",
              "      <th>created_utc</th>\n",
              "      <td>0</td>\n",
              "    </tr>\n",
              "    <tr>\n",
              "      <th>upvote_ratio</th>\n",
              "      <td>0</td>\n",
              "    </tr>\n",
              "    <tr>\n",
              "      <th>author</th>\n",
              "      <td>0</td>\n",
              "    </tr>\n",
              "    <tr>\n",
              "      <th>cleaned_title</th>\n",
              "      <td>0</td>\n",
              "    </tr>\n",
              "    <tr>\n",
              "      <th>cleaned_content</th>\n",
              "      <td>0</td>\n",
              "    </tr>\n",
              "    <tr>\n",
              "      <th>title_sentiment</th>\n",
              "      <td>0</td>\n",
              "    </tr>\n",
              "    <tr>\n",
              "      <th>content_sentiment</th>\n",
              "      <td>0</td>\n",
              "    </tr>\n",
              "    <tr>\n",
              "      <th>title_sentiment_class</th>\n",
              "      <td>0</td>\n",
              "    </tr>\n",
              "    <tr>\n",
              "      <th>content_sentiment_class</th>\n",
              "      <td>0</td>\n",
              "    </tr>\n",
              "  </tbody>\n",
              "</table>\n",
              "</div><br><label><b>dtype:</b> int64</label>"
            ]
          },
          "metadata": {},
          "execution_count": 27
        }
      ]
    },
    {
      "cell_type": "markdown",
      "source": [
        "Now the data is cleaned well..."
      ],
      "metadata": {
        "id": "nPk8Cm9PL7Nh"
      }
    },
    {
      "cell_type": "code",
      "source": [
        "fd1.shape   #The shape of cleaned dataframe"
      ],
      "metadata": {
        "colab": {
          "base_uri": "https://localhost:8080/"
        },
        "id": "f3B4A1TxjtfE",
        "outputId": "d0c40c98-ef27-4518-d932-20cc4d0fd55b"
      },
      "execution_count": null,
      "outputs": [
        {
          "output_type": "execute_result",
          "data": {
            "text/plain": [
              "(9131, 15)"
            ]
          },
          "metadata": {},
          "execution_count": 28
        }
      ]
    },
    {
      "cell_type": "markdown",
      "source": [
        "From 16947 rows , only 9131 rows are now in dataframe and remaining were eliminated due to NaN values..."
      ],
      "metadata": {
        "id": "t1Fm0FnMMDbN"
      }
    },
    {
      "cell_type": "markdown",
      "source": [
        "Now the data is cleaned and preprocessed well Next step we will do Feature Extraction where we extract important features for better performance of model..."
      ],
      "metadata": {
        "id": "bz5HDfMcNe5c"
      }
    }
  ]
}