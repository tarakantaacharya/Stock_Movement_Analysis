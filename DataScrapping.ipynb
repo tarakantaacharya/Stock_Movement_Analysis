{
  "nbformat": 4,
  "nbformat_minor": 0,
  "metadata": {
    "colab": {
      "provenance": [],
      "authorship_tag": "ABX9TyNnntGRI9q/PSFcnXDYpuZ6",
      "include_colab_link": true
    },
    "kernelspec": {
      "name": "python3",
      "display_name": "Python 3"
    },
    "language_info": {
      "name": "python"
    }
  },
  "cells": [
    {
      "cell_type": "markdown",
      "metadata": {
        "id": "view-in-github",
        "colab_type": "text"
      },
      "source": [
        "<a href=\"https://colab.research.google.com/github/tarakantaacharya/Stock_Movement_Analysis/blob/main/DataScrapping.ipynb\" target=\"_parent\"><img src=\"https://colab.research.google.com/assets/colab-badge.svg\" alt=\"Open In Colab\"/></a>"
      ]
    },
    {
      "cell_type": "markdown",
      "source": [
        "#Data Scraping"
      ],
      "metadata": {
        "id": "e63Dey3bAIM-"
      }
    },
    {
      "cell_type": "markdown",
      "source": [
        "###Instructions to run code :\n",
        "Due to security purposes in Github the API details are not given. So you have to create API key and use it into reddit API section then you can run the code without any interruption"
      ],
      "metadata": {
        "id": "hDiLfCzFFpgj"
      }
    },
    {
      "cell_type": "markdown",
      "source": [
        "--------------------------------------------------------------------------------------------------------------------------------------------------------------------------------------------------------------------------------------------------------------------------------------------------------------------------------"
      ],
      "metadata": {
        "id": "3bMYpMrsGB89"
      }
    },
    {
      "cell_type": "markdown",
      "source": [
        "The command !pip install praw is used to install the praw Python library using the package manager pip.\n",
        "\n",
        "PRAW allows developers to access Reddit data programmatically. With PRAW, you can:\n",
        "\n",
        "Retrieve posts and comments from subreddits.\n",
        "Submit posts and comments.\n",
        "Extract information for data analysis, sentiment analysis, or natural language processing (NLP) projects.\n",
        "Automate interactions with Reddit, such as monitoring specific subreddits."
      ],
      "metadata": {
        "id": "uuuUEkR9_MV6"
      }
    },
    {
      "cell_type": "code",
      "execution_count": null,
      "metadata": {
        "colab": {
          "base_uri": "https://localhost:8080/"
        },
        "id": "lIM5sj30eo0L",
        "outputId": "42acd595-4c2d-41a4-f6e0-9cde800f56c3"
      },
      "outputs": [
        {
          "output_type": "stream",
          "name": "stdout",
          "text": [
            "Collecting praw\n",
            "  Downloading praw-7.8.1-py3-none-any.whl.metadata (9.4 kB)\n",
            "Collecting prawcore<3,>=2.4 (from praw)\n",
            "  Downloading prawcore-2.4.0-py3-none-any.whl.metadata (5.0 kB)\n",
            "Collecting update_checker>=0.18 (from praw)\n",
            "  Downloading update_checker-0.18.0-py3-none-any.whl.metadata (2.3 kB)\n",
            "Requirement already satisfied: websocket-client>=0.54.0 in /usr/local/lib/python3.10/dist-packages (from praw) (1.8.0)\n",
            "Requirement already satisfied: requests<3.0,>=2.6.0 in /usr/local/lib/python3.10/dist-packages (from prawcore<3,>=2.4->praw) (2.32.3)\n",
            "Requirement already satisfied: charset-normalizer<4,>=2 in /usr/local/lib/python3.10/dist-packages (from requests<3.0,>=2.6.0->prawcore<3,>=2.4->praw) (3.4.0)\n",
            "Requirement already satisfied: idna<4,>=2.5 in /usr/local/lib/python3.10/dist-packages (from requests<3.0,>=2.6.0->prawcore<3,>=2.4->praw) (3.10)\n",
            "Requirement already satisfied: urllib3<3,>=1.21.1 in /usr/local/lib/python3.10/dist-packages (from requests<3.0,>=2.6.0->prawcore<3,>=2.4->praw) (2.2.3)\n",
            "Requirement already satisfied: certifi>=2017.4.17 in /usr/local/lib/python3.10/dist-packages (from requests<3.0,>=2.6.0->prawcore<3,>=2.4->praw) (2024.8.30)\n",
            "Downloading praw-7.8.1-py3-none-any.whl (189 kB)\n",
            "\u001b[2K   \u001b[90m━━━━━━━━━━━━━━━━━━━━━━━━━━━━━━━━━━━━━━━━\u001b[0m \u001b[32m189.3/189.3 kB\u001b[0m \u001b[31m3.6 MB/s\u001b[0m eta \u001b[36m0:00:00\u001b[0m\n",
            "\u001b[?25hDownloading prawcore-2.4.0-py3-none-any.whl (17 kB)\n",
            "Downloading update_checker-0.18.0-py3-none-any.whl (7.0 kB)\n",
            "Installing collected packages: update_checker, prawcore, praw\n",
            "Successfully installed praw-7.8.1 prawcore-2.4.0 update_checker-0.18.0\n"
          ]
        }
      ],
      "source": [
        "!pip install praw"
      ]
    },
    {
      "cell_type": "markdown",
      "source": [
        "Importing the libraries"
      ],
      "metadata": {
        "id": "2S963lLR_16-"
      }
    },
    {
      "cell_type": "code",
      "source": [
        "# Importing PRAW (Python Reddit API Wrapper) to interact with Reddit's API\n",
        "import praw\n",
        "# Importing pandas to work with data in DataFrame format (useful for data manipulation and analysis)\n",
        "import pandas as pd\n",
        "# Importing requests to handle HTTP requests and catch potential 403 errors (forbidden access)\n",
        "import requests  # Useful when accessing web resources or handling HTTP errors"
      ],
      "metadata": {
        "id": "ZmA1R8a3ffgf"
      },
      "execution_count": null,
      "outputs": []
    },
    {
      "cell_type": "markdown",
      "source": [
        "For the security purpose in GitHub, The client Id, client_secret and user_agent are not provided. You can use your client_id,client_secret and user_agent from Reddit API  "
      ],
      "metadata": {
        "id": "OdQr1b7JDl_a"
      }
    },
    {
      "cell_type": "code",
      "source": [
        "# Initialize Reddit API\n",
        "reddit = praw.Reddit(\n",
        "    client_id='#################',  # Your client ID\n",
        "    client_secret='########################',  # Your client secret\n",
        "    user_agent='################################', # Your user agent\n",
        "    check_for_async=False #Recommended to use async PRAW for scrapping\n",
        ")\n",
        "\n",
        "# List of subreddits focused on stock market discussions\n",
        "subreddits = [\n",
        "    'WallStreetBets', 'stocks', 'StockMarket', 'investing', 'pennystocks', 'finance',\n",
        "    'options', 'ValueInvesting', 'DividendInvesting', 'shortsqueeze', 'Trading',\n",
        "    'Investing101', 'FI', 'financialindependence', 'cryptocurrency', 'Economics',\n",
        "    'StockGains', 'StocksForBeginners', 'BitcoinMarkets', 'Fundamentals', 'stockpicks',\n",
        "    'TradeShares', 'MomentumStocks', 'TechStocks', 'BigStocks', 'FinTech', 'ETFs',\n",
        "    'Actuaries', 'InvestingInBonds', 'TradingAlgorithms'\n",
        "]"
      ],
      "metadata": {
        "id": "2PvBomHcfj-v"
      },
      "execution_count": null,
      "outputs": []
    },
    {
      "cell_type": "code",
      "source": [
        "# Initialize empty list to store post data\n",
        "posts_data = []\n",
        "\n",
        "# Function to handle 403 errors by skipping the subreddit\n",
        "def handle_403_error(subreddit_name):\n",
        "    print(f\"403 error encountered for subreddit: {subreddit_name}. Skipping this subreddit.\")\n",
        "    return True  # Return True to indicate the subreddit should be skipped\n",
        "\n",
        "# Loop through each subreddit and collect posts\n",
        "for subreddit_name in subreddits:\n",
        "    try:\n",
        "        subreddit = reddit.subreddit(subreddit_name)\n",
        "\n",
        "        # Check if we can access the subreddit (avoid 403 error)\n",
        "        subreddit._fetch()  # Try fetching subreddit data to catch any 403 errors\n",
        "\n",
        "        # Fetch top posts (you can change this to other sorting methods)\n",
        "        for post in subreddit.top(limit=5000):  # Fetch top 10 posts (can adjust limit as needed)\n",
        "            post_data = {\n",
        "                'subreddit': subreddit_name,\n",
        "                'title': post.title,\n",
        "                'content': post.selftext,\n",
        "                'score': post.score,\n",
        "                'num_comments': post.num_comments,\n",
        "                'url': post.url,\n",
        "                'created_utc': datetime.utcfromtimestamp(post.created_utc),\n",
        "                'upvote_ratio': post.upvote_ratio,\n",
        "                'author': post.author.name if post.author else 'N/A'\n",
        "            }\n",
        "\n",
        "            posts_data.append(post_data)\n",
        "\n",
        "    except requests.exceptions.HTTPError as e:\n",
        "        if e.response.status_code == 403:\n",
        "            if handle_403_error(subreddit_name):  # Skip this subreddit\n",
        "                continue  # Skip the current subreddit and go to the next one\n",
        "\n",
        "    except Exception as e:\n",
        "        print(f\"An error occurred while processing subreddit '{subreddit_name}': {e}\")\n",
        "        continue  # Skip to the next subreddit if an error occurs\n",
        "\n",
        "    # Add sleep to avoid rate limiting issues\n",
        "    time.sleep(2)\n",
        "\n",
        "# Create a DataFrame to store the posts\n",
        "df_posts = pd.DataFrame(posts_data)\n",
        "\n",
        "# Save to CSV (you can change this to JSON, or any format you prefer)\n",
        "df_posts.to_csv('reddit_stock_data_posts.csv', index=False)\n",
        "\n",
        "print(\"Data collection complete. Saved to 'reddit_stock_data_posts.csv'.\")"
      ],
      "metadata": {
        "colab": {
          "base_uri": "https://localhost:8080/"
        },
        "id": "WJU3RyTbfl-f",
        "outputId": "5c3b9414-fde7-4366-eac0-7d1e7aa2a194"
      },
      "execution_count": null,
      "outputs": [
        {
          "output_type": "stream",
          "name": "stdout",
          "text": [
            "An error occurred while processing subreddit 'FI': received 404 HTTP response\n",
            "An error occurred while processing subreddit 'TradeShares': Redirect to /subreddits/search\n",
            "An error occurred while processing subreddit 'MomentumStocks': Redirect to /subreddits/search\n",
            "An error occurred while processing subreddit 'BigStocks': Redirect to /subreddits/search\n",
            "An error occurred while processing subreddit 'InvestingInBonds': Redirect to /subreddits/search\n",
            "An error occurred while processing subreddit 'TradingAlgorithms': received 404 HTTP response\n",
            "Data collection complete. Saved to 'reddit_stock_data_posts.csv'.\n"
          ]
        }
      ]
    },
    {
      "cell_type": "code",
      "source": [
        "fd = pd.read_csv('reddit_stock_data_posts.csv')   #The scrapped dataframe is converted into csv file and stored for next process\n",
        "fd.head()                                         #It will give top 5 rows of dataframe"
      ],
      "metadata": {
        "colab": {
          "base_uri": "https://localhost:8080/",
          "height": 397
        },
        "id": "YyvNPK--fxtS",
        "outputId": "968fbe34-b47e-4c1d-879f-819c27a91e29"
      },
      "execution_count": null,
      "outputs": [
        {
          "output_type": "execute_result",
          "data": {
            "text/plain": [
              "        subreddit                                   title content   score  \\\n",
              "0  WallStreetBets                  Times Square right now     NaN  489193   \n",
              "1  WallStreetBets  UPVOTE so everyone sees we got SUPPORT     NaN  338563   \n",
              "2  WallStreetBets           GME YOLO update — Jan 28 2021     NaN  300871   \n",
              "3  WallStreetBets    GME YOLO month-end update — Jan 2021     NaN  264904   \n",
              "4  WallStreetBets                       It’s treason then     NaN  247637   \n",
              "\n",
              "   num_comments                                  url          created_utc  \\\n",
              "0         14013      https://v.redd.it/x64z70f7eie61  2021-01-30 18:00:38   \n",
              "1         12843  https://i.redd.it/sgoqy8nyt2e61.png  2021-01-28 13:40:34   \n",
              "2         23007  https://i.redd.it/opzucppb15e61.png  2021-01-28 21:06:23   \n",
              "3         19896  https://i.redd.it/r557em3t5ce61.png  2021-01-29 21:04:45   \n",
              "4          4596  https://i.redd.it/d3t66lv1yce61.jpg  2021-01-29 23:40:59   \n",
              "\n",
              "   upvote_ratio                author  \n",
              "0          0.99  SomeGuyInDeutschland  \n",
              "1          0.98              vrweensy  \n",
              "2          0.98      DeepFuckingValue  \n",
              "3          0.98      DeepFuckingValue  \n",
              "4          0.98              keenfeed  "
            ],
            "text/html": [
              "\n",
              "  <div id=\"df-4f677cdd-6673-4419-aab9-8f8ec2970eb7\" class=\"colab-df-container\">\n",
              "    <div>\n",
              "<style scoped>\n",
              "    .dataframe tbody tr th:only-of-type {\n",
              "        vertical-align: middle;\n",
              "    }\n",
              "\n",
              "    .dataframe tbody tr th {\n",
              "        vertical-align: top;\n",
              "    }\n",
              "\n",
              "    .dataframe thead th {\n",
              "        text-align: right;\n",
              "    }\n",
              "</style>\n",
              "<table border=\"1\" class=\"dataframe\">\n",
              "  <thead>\n",
              "    <tr style=\"text-align: right;\">\n",
              "      <th></th>\n",
              "      <th>subreddit</th>\n",
              "      <th>title</th>\n",
              "      <th>content</th>\n",
              "      <th>score</th>\n",
              "      <th>num_comments</th>\n",
              "      <th>url</th>\n",
              "      <th>created_utc</th>\n",
              "      <th>upvote_ratio</th>\n",
              "      <th>author</th>\n",
              "    </tr>\n",
              "  </thead>\n",
              "  <tbody>\n",
              "    <tr>\n",
              "      <th>0</th>\n",
              "      <td>WallStreetBets</td>\n",
              "      <td>Times Square right now</td>\n",
              "      <td>NaN</td>\n",
              "      <td>489193</td>\n",
              "      <td>14013</td>\n",
              "      <td>https://v.redd.it/x64z70f7eie61</td>\n",
              "      <td>2021-01-30 18:00:38</td>\n",
              "      <td>0.99</td>\n",
              "      <td>SomeGuyInDeutschland</td>\n",
              "    </tr>\n",
              "    <tr>\n",
              "      <th>1</th>\n",
              "      <td>WallStreetBets</td>\n",
              "      <td>UPVOTE so everyone sees we got SUPPORT</td>\n",
              "      <td>NaN</td>\n",
              "      <td>338563</td>\n",
              "      <td>12843</td>\n",
              "      <td>https://i.redd.it/sgoqy8nyt2e61.png</td>\n",
              "      <td>2021-01-28 13:40:34</td>\n",
              "      <td>0.98</td>\n",
              "      <td>vrweensy</td>\n",
              "    </tr>\n",
              "    <tr>\n",
              "      <th>2</th>\n",
              "      <td>WallStreetBets</td>\n",
              "      <td>GME YOLO update — Jan 28 2021</td>\n",
              "      <td>NaN</td>\n",
              "      <td>300871</td>\n",
              "      <td>23007</td>\n",
              "      <td>https://i.redd.it/opzucppb15e61.png</td>\n",
              "      <td>2021-01-28 21:06:23</td>\n",
              "      <td>0.98</td>\n",
              "      <td>DeepFuckingValue</td>\n",
              "    </tr>\n",
              "    <tr>\n",
              "      <th>3</th>\n",
              "      <td>WallStreetBets</td>\n",
              "      <td>GME YOLO month-end update — Jan 2021</td>\n",
              "      <td>NaN</td>\n",
              "      <td>264904</td>\n",
              "      <td>19896</td>\n",
              "      <td>https://i.redd.it/r557em3t5ce61.png</td>\n",
              "      <td>2021-01-29 21:04:45</td>\n",
              "      <td>0.98</td>\n",
              "      <td>DeepFuckingValue</td>\n",
              "    </tr>\n",
              "    <tr>\n",
              "      <th>4</th>\n",
              "      <td>WallStreetBets</td>\n",
              "      <td>It’s treason then</td>\n",
              "      <td>NaN</td>\n",
              "      <td>247637</td>\n",
              "      <td>4596</td>\n",
              "      <td>https://i.redd.it/d3t66lv1yce61.jpg</td>\n",
              "      <td>2021-01-29 23:40:59</td>\n",
              "      <td>0.98</td>\n",
              "      <td>keenfeed</td>\n",
              "    </tr>\n",
              "  </tbody>\n",
              "</table>\n",
              "</div>\n",
              "    <div class=\"colab-df-buttons\">\n",
              "\n",
              "  <div class=\"colab-df-container\">\n",
              "    <button class=\"colab-df-convert\" onclick=\"convertToInteractive('df-4f677cdd-6673-4419-aab9-8f8ec2970eb7')\"\n",
              "            title=\"Convert this dataframe to an interactive table.\"\n",
              "            style=\"display:none;\">\n",
              "\n",
              "  <svg xmlns=\"http://www.w3.org/2000/svg\" height=\"24px\" viewBox=\"0 -960 960 960\">\n",
              "    <path d=\"M120-120v-720h720v720H120Zm60-500h600v-160H180v160Zm220 220h160v-160H400v160Zm0 220h160v-160H400v160ZM180-400h160v-160H180v160Zm440 0h160v-160H620v160ZM180-180h160v-160H180v160Zm440 0h160v-160H620v160Z\"/>\n",
              "  </svg>\n",
              "    </button>\n",
              "\n",
              "  <style>\n",
              "    .colab-df-container {\n",
              "      display:flex;\n",
              "      gap: 12px;\n",
              "    }\n",
              "\n",
              "    .colab-df-convert {\n",
              "      background-color: #E8F0FE;\n",
              "      border: none;\n",
              "      border-radius: 50%;\n",
              "      cursor: pointer;\n",
              "      display: none;\n",
              "      fill: #1967D2;\n",
              "      height: 32px;\n",
              "      padding: 0 0 0 0;\n",
              "      width: 32px;\n",
              "    }\n",
              "\n",
              "    .colab-df-convert:hover {\n",
              "      background-color: #E2EBFA;\n",
              "      box-shadow: 0px 1px 2px rgba(60, 64, 67, 0.3), 0px 1px 3px 1px rgba(60, 64, 67, 0.15);\n",
              "      fill: #174EA6;\n",
              "    }\n",
              "\n",
              "    .colab-df-buttons div {\n",
              "      margin-bottom: 4px;\n",
              "    }\n",
              "\n",
              "    [theme=dark] .colab-df-convert {\n",
              "      background-color: #3B4455;\n",
              "      fill: #D2E3FC;\n",
              "    }\n",
              "\n",
              "    [theme=dark] .colab-df-convert:hover {\n",
              "      background-color: #434B5C;\n",
              "      box-shadow: 0px 1px 3px 1px rgba(0, 0, 0, 0.15);\n",
              "      filter: drop-shadow(0px 1px 2px rgba(0, 0, 0, 0.3));\n",
              "      fill: #FFFFFF;\n",
              "    }\n",
              "  </style>\n",
              "\n",
              "    <script>\n",
              "      const buttonEl =\n",
              "        document.querySelector('#df-4f677cdd-6673-4419-aab9-8f8ec2970eb7 button.colab-df-convert');\n",
              "      buttonEl.style.display =\n",
              "        google.colab.kernel.accessAllowed ? 'block' : 'none';\n",
              "\n",
              "      async function convertToInteractive(key) {\n",
              "        const element = document.querySelector('#df-4f677cdd-6673-4419-aab9-8f8ec2970eb7');\n",
              "        const dataTable =\n",
              "          await google.colab.kernel.invokeFunction('convertToInteractive',\n",
              "                                                    [key], {});\n",
              "        if (!dataTable) return;\n",
              "\n",
              "        const docLinkHtml = 'Like what you see? Visit the ' +\n",
              "          '<a target=\"_blank\" href=https://colab.research.google.com/notebooks/data_table.ipynb>data table notebook</a>'\n",
              "          + ' to learn more about interactive tables.';\n",
              "        element.innerHTML = '';\n",
              "        dataTable['output_type'] = 'display_data';\n",
              "        await google.colab.output.renderOutput(dataTable, element);\n",
              "        const docLink = document.createElement('div');\n",
              "        docLink.innerHTML = docLinkHtml;\n",
              "        element.appendChild(docLink);\n",
              "      }\n",
              "    </script>\n",
              "  </div>\n",
              "\n",
              "\n",
              "<div id=\"df-10fb8b4a-3520-4ad6-b212-0bfdddf35960\">\n",
              "  <button class=\"colab-df-quickchart\" onclick=\"quickchart('df-10fb8b4a-3520-4ad6-b212-0bfdddf35960')\"\n",
              "            title=\"Suggest charts\"\n",
              "            style=\"display:none;\">\n",
              "\n",
              "<svg xmlns=\"http://www.w3.org/2000/svg\" height=\"24px\"viewBox=\"0 0 24 24\"\n",
              "     width=\"24px\">\n",
              "    <g>\n",
              "        <path d=\"M19 3H5c-1.1 0-2 .9-2 2v14c0 1.1.9 2 2 2h14c1.1 0 2-.9 2-2V5c0-1.1-.9-2-2-2zM9 17H7v-7h2v7zm4 0h-2V7h2v10zm4 0h-2v-4h2v4z\"/>\n",
              "    </g>\n",
              "</svg>\n",
              "  </button>\n",
              "\n",
              "<style>\n",
              "  .colab-df-quickchart {\n",
              "      --bg-color: #E8F0FE;\n",
              "      --fill-color: #1967D2;\n",
              "      --hover-bg-color: #E2EBFA;\n",
              "      --hover-fill-color: #174EA6;\n",
              "      --disabled-fill-color: #AAA;\n",
              "      --disabled-bg-color: #DDD;\n",
              "  }\n",
              "\n",
              "  [theme=dark] .colab-df-quickchart {\n",
              "      --bg-color: #3B4455;\n",
              "      --fill-color: #D2E3FC;\n",
              "      --hover-bg-color: #434B5C;\n",
              "      --hover-fill-color: #FFFFFF;\n",
              "      --disabled-bg-color: #3B4455;\n",
              "      --disabled-fill-color: #666;\n",
              "  }\n",
              "\n",
              "  .colab-df-quickchart {\n",
              "    background-color: var(--bg-color);\n",
              "    border: none;\n",
              "    border-radius: 50%;\n",
              "    cursor: pointer;\n",
              "    display: none;\n",
              "    fill: var(--fill-color);\n",
              "    height: 32px;\n",
              "    padding: 0;\n",
              "    width: 32px;\n",
              "  }\n",
              "\n",
              "  .colab-df-quickchart:hover {\n",
              "    background-color: var(--hover-bg-color);\n",
              "    box-shadow: 0 1px 2px rgba(60, 64, 67, 0.3), 0 1px 3px 1px rgba(60, 64, 67, 0.15);\n",
              "    fill: var(--button-hover-fill-color);\n",
              "  }\n",
              "\n",
              "  .colab-df-quickchart-complete:disabled,\n",
              "  .colab-df-quickchart-complete:disabled:hover {\n",
              "    background-color: var(--disabled-bg-color);\n",
              "    fill: var(--disabled-fill-color);\n",
              "    box-shadow: none;\n",
              "  }\n",
              "\n",
              "  .colab-df-spinner {\n",
              "    border: 2px solid var(--fill-color);\n",
              "    border-color: transparent;\n",
              "    border-bottom-color: var(--fill-color);\n",
              "    animation:\n",
              "      spin 1s steps(1) infinite;\n",
              "  }\n",
              "\n",
              "  @keyframes spin {\n",
              "    0% {\n",
              "      border-color: transparent;\n",
              "      border-bottom-color: var(--fill-color);\n",
              "      border-left-color: var(--fill-color);\n",
              "    }\n",
              "    20% {\n",
              "      border-color: transparent;\n",
              "      border-left-color: var(--fill-color);\n",
              "      border-top-color: var(--fill-color);\n",
              "    }\n",
              "    30% {\n",
              "      border-color: transparent;\n",
              "      border-left-color: var(--fill-color);\n",
              "      border-top-color: var(--fill-color);\n",
              "      border-right-color: var(--fill-color);\n",
              "    }\n",
              "    40% {\n",
              "      border-color: transparent;\n",
              "      border-right-color: var(--fill-color);\n",
              "      border-top-color: var(--fill-color);\n",
              "    }\n",
              "    60% {\n",
              "      border-color: transparent;\n",
              "      border-right-color: var(--fill-color);\n",
              "    }\n",
              "    80% {\n",
              "      border-color: transparent;\n",
              "      border-right-color: var(--fill-color);\n",
              "      border-bottom-color: var(--fill-color);\n",
              "    }\n",
              "    90% {\n",
              "      border-color: transparent;\n",
              "      border-bottom-color: var(--fill-color);\n",
              "    }\n",
              "  }\n",
              "</style>\n",
              "\n",
              "  <script>\n",
              "    async function quickchart(key) {\n",
              "      const quickchartButtonEl =\n",
              "        document.querySelector('#' + key + ' button');\n",
              "      quickchartButtonEl.disabled = true;  // To prevent multiple clicks.\n",
              "      quickchartButtonEl.classList.add('colab-df-spinner');\n",
              "      try {\n",
              "        const charts = await google.colab.kernel.invokeFunction(\n",
              "            'suggestCharts', [key], {});\n",
              "      } catch (error) {\n",
              "        console.error('Error during call to suggestCharts:', error);\n",
              "      }\n",
              "      quickchartButtonEl.classList.remove('colab-df-spinner');\n",
              "      quickchartButtonEl.classList.add('colab-df-quickchart-complete');\n",
              "    }\n",
              "    (() => {\n",
              "      let quickchartButtonEl =\n",
              "        document.querySelector('#df-10fb8b4a-3520-4ad6-b212-0bfdddf35960 button');\n",
              "      quickchartButtonEl.style.display =\n",
              "        google.colab.kernel.accessAllowed ? 'block' : 'none';\n",
              "    })();\n",
              "  </script>\n",
              "</div>\n",
              "\n",
              "    </div>\n",
              "  </div>\n"
            ],
            "application/vnd.google.colaboratory.intrinsic+json": {
              "type": "dataframe",
              "variable_name": "fd",
              "summary": "{\n  \"name\": \"fd\",\n  \"rows\": 16947,\n  \"fields\": [\n    {\n      \"column\": \"subreddit\",\n      \"properties\": {\n        \"dtype\": \"category\",\n        \"num_unique_values\": 23,\n        \"samples\": [\n          \"StockGains\",\n          \"shortsqueeze\",\n          \"WallStreetBets\"\n        ],\n        \"semantic_type\": \"\",\n        \"description\": \"\"\n      }\n    },\n    {\n      \"column\": \"title\",\n      \"properties\": {\n        \"dtype\": \"string\",\n        \"num_unique_values\": 16729,\n        \"samples\": [\n          \"It does work!\",\n          \"Vanguard launches ESG-screened global corporate bond ETF in Europe\",\n          \"India lets cryptocurrencies back in\"\n        ],\n        \"semantic_type\": \"\",\n        \"description\": \"\"\n      }\n    },\n    {\n      \"column\": \"content\",\n      \"properties\": {\n        \"dtype\": \"string\",\n        \"num_unique_values\": 9877,\n        \"samples\": [\n          \"Hello [/r/financialindependence](https://www.reddit.com/r/financialindependence)! I've been lurking this subreddit for about a year and i'm proud to say that i've saved $10,000 at the age of 24! I started really saving at the start of this year. I know it is not actually much money, but it is my first step and it took a few months to get here. I'm eyeing $20,000 now as my next goal and I think I will be easier to hit the next target due to a change in lifestyle! I feel so much better now, not only because I have the buffer but because I never get to the point where my checking account is at $0 anymore. Not too long ago I remember being unable to afford to buy water from a vending machine at work because I had no money even though I was being paid well.\\n\\nAt the start of the year (not a new years resolution, it just worked out that way haha) I decided to stop being broke. Since I started college I always thought of myself as frugal since I never made super large purchases or bought expensive cloths or anything like that. What i've realized is that I enjoy food. A lot. Which is strange how much I spent on food since I am skinny. I went out to eat every other day, I bought expensive food just because I thought the cheaper food wouldn't be as good, I bought too much food and wasted some. I ate at work every day for breakfast and lunch, etc. I stopped eating a work, started making my own meals at home and eating breakfast before I went to work, and I also stopped eating out almost all together. I also plan how I shop more, buying the cheaper options when I can and buying things in bulk as much as is reasonable.\\n\\nI also had (actually still have, trying to stop) shopping-while-bored syndrome, and while I would never buy anything very expensive I would always be in thrift shops buying small things that I did not need. Thrift shopping was my hobby. I've tried to stop doing that by taking up other hobbies that can fill my time when I am bored and that do not bleed money. I've taken up running , and i've also taken up fishing which is very low cost for a lot of fun. I want to learn how to clean and eat the fish as well, which would provide even more value.\\n\\nSeeing the money grow is really very motivating, and i'm looking for ways to make it grow faster. I've thought of a number of ideas and finally acted on one just this weekend. I've been running for a while and decided to try dog running. A women in my neighborhood let me run her dog, she and the dog were pleased. I did not charge money for it, but I know she is willing to pay money for a regular service which is exciting.\\n\\nI wouldn't have made any of these transitions had I not been reading this subreddit. I have new goals for myself and can now see myself being someone who can FI instead of someone who sees work as a requirement and can't afford water out of a vending machine.\\n\\nThank you!  \\n\\n\\nEDIT: Oh wow this got big. Thank you all for your suggestions an encouragement!\",\n          \"**TLDR; SimpleSwap won\\u2019t send your coins if exchange rates change unfavorably for them, and will hold onto your coins waiting for them to improve in their favor. Otherwise they hold them hostage unless you want to accept fewer coins. Customer service will make up lies as needed.**\\n\\n\\\\*I\\u2019m posting here because they actively advertise (spam) on this sub regularly, and people have a right to know how they operate.\\n\\nI recently sent several thousand USD worth of coins to SimpleSwap. They received the coins very quickly, confirmed it, then it was stuck on \\u201cexchanging\\u201d for hours. 24 hours went by, and I reached out to customer service, who eventually responded to say that it was a \\u201cone time technical issue\\u201d and that the engineers were working on resolving it. By the second day, they reached back out to say that the problem really was that the exchange rates have changed, and so the transaction had been automatically suspended as a result to *protect my funds*. SimpleSwap said they\\u2019ll only be willing to send me fewer coins but not the originally agreed amount.\\n\\nI replied and said that the new rate only negatively affects them, not me, and that they should send the correct amount of coins as agreed. SimpleSwap then claimed that actually the problem is really that I chose \\u201cfloating rate\\u201d instead of \\u201cfixed rate\\u201d (which is a lie, I always have chosen fixed rate). This is obviously incorrect as had I chosen floating rate, the transaction would have gone through automatically since it would have made them more money, which itself is the reason I never choose floating rate.\\n\\nSo basically, if rates change, SimpleSwap only send the coin if rates change in their favor, otherwise they won\\u2019t send you the agreed amount. Here it is over two days later and SimpleSwap still has my coins, and are **holding them hostage** unless I want to accept fewer coins, and they\\u2019re making up multiple lies to try and cover themselves. I asked for a refund, but as of this posting they have not done so.\",\n          \"https://www.cnbc.com/2019/12/17/alan-greenspan-says-inflation-is-inevitably-going-to-rise-as-deficit-balloons-over-1-trillion.html\\n\\nWhy does he say this now when we've pumped 4Trillion and no inflation has occurred ?\"\n        ],\n        \"semantic_type\": \"\",\n        \"description\": \"\"\n      }\n    },\n    {\n      \"column\": \"score\",\n      \"properties\": {\n        \"dtype\": \"number\",\n        \"std\": 17109,\n        \"min\": 0,\n        \"max\": 489193,\n        \"num_unique_values\": 5607,\n        \"samples\": [\n          1356,\n          3459,\n          59602\n        ],\n        \"semantic_type\": \"\",\n        \"description\": \"\"\n      }\n    },\n    {\n      \"column\": \"num_comments\",\n      \"properties\": {\n        \"dtype\": \"number\",\n        \"std\": 1864,\n        \"min\": 0,\n        \"max\": 87736,\n        \"num_unique_values\": 2175,\n        \"samples\": [\n          1622,\n          68,\n          924\n        ],\n        \"semantic_type\": \"\",\n        \"description\": \"\"\n      }\n    },\n    {\n      \"column\": \"url\",\n      \"properties\": {\n        \"dtype\": \"string\",\n        \"num_unique_values\": 16902,\n        \"samples\": [\n          \"https://www.reddit.com/r/fintech/comments/r73p8y/what_matters_in_fintech_customer_experience_the/\",\n          \"https://www.reddit.com/r/financialindependence/comments/cgeori/a_dispatch_from_the_boring_middle/\",\n          \"https://www.reuters.com/business/new-york-widens-lead-over-london-top-finance-centres-index-2022-03-24/\"\n        ],\n        \"semantic_type\": \"\",\n        \"description\": \"\"\n      }\n    },\n    {\n      \"column\": \"created_utc\",\n      \"properties\": {\n        \"dtype\": \"object\",\n        \"num_unique_values\": 16942,\n        \"samples\": [\n          \"2017-09-07 13:47:01\",\n          \"2024-07-13 17:04:42\",\n          \"2022-08-21 19:37:59\"\n        ],\n        \"semantic_type\": \"\",\n        \"description\": \"\"\n      }\n    },\n    {\n      \"column\": \"upvote_ratio\",\n      \"properties\": {\n        \"dtype\": \"number\",\n        \"std\": 0.07894633448519604,\n        \"min\": 0.14,\n        \"max\": 1.0,\n        \"num_unique_values\": 65,\n        \"samples\": [\n          0.42,\n          0.29,\n          0.99\n        ],\n        \"semantic_type\": \"\",\n        \"description\": \"\"\n      }\n    },\n    {\n      \"column\": \"author\",\n      \"properties\": {\n        \"dtype\": \"string\",\n        \"num_unique_values\": 9697,\n        \"samples\": [\n          \"jasonluxton\",\n          \"broken_throw_away__\",\n          \"darkstriders\"\n        ],\n        \"semantic_type\": \"\",\n        \"description\": \"\"\n      }\n    }\n  ]\n}"
            }
          },
          "metadata": {},
          "execution_count": 6
        }
      ]
    },
    {
      "cell_type": "code",
      "source": [
        "fd.shape    #Determine the shape of Dataframe \"fd\"(scrapped dataframe)"
      ],
      "metadata": {
        "colab": {
          "base_uri": "https://localhost:8080/"
        },
        "id": "v0Qzt4PRgYVv",
        "outputId": "14ea6b98-0a76-479c-cc07-efb4390d7966"
      },
      "execution_count": null,
      "outputs": [
        {
          "output_type": "execute_result",
          "data": {
            "text/plain": [
              "(16947, 9)"
            ]
          },
          "metadata": {},
          "execution_count": 7
        }
      ]
    },
    {
      "cell_type": "markdown",
      "source": [
        "The Scrapped data has 16947 rows and 9 columns !!!"
      ],
      "metadata": {
        "id": "grl0I0ciB5yh"
      }
    },
    {
      "cell_type": "code",
      "source": [
        "fd.columns   #Column names of scrapped data"
      ],
      "metadata": {
        "colab": {
          "base_uri": "https://localhost:8080/"
        },
        "id": "UEyMs8vZiS8y",
        "outputId": "3daf5a16-8bd8-4eca-96be-69e5fd2959a5"
      },
      "execution_count": null,
      "outputs": [
        {
          "output_type": "execute_result",
          "data": {
            "text/plain": [
              "Index(['subreddit', 'title', 'content', 'score', 'num_comments', 'url',\n",
              "       'created_utc', 'upvote_ratio', 'author'],\n",
              "      dtype='object')"
            ]
          },
          "metadata": {},
          "execution_count": 15
        }
      ]
    },
    {
      "cell_type": "markdown",
      "source": [
        "Here we scrapped data from reddit and stored in respective dataframe and csv files. Next we will go to Data preprocessing step where we add some columns using this scrapped data columns and also clean the data for better prediction"
      ],
      "metadata": {
        "id": "7FCzoqEhCm2O"
      }
    }
  ]
}